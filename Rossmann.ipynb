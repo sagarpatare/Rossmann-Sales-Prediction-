{
 "cells": [
  {
   "cell_type": "markdown",
   "metadata": {
    "deletable": true,
    "editable": true
   },
   "source": [
    "\n",
    "# Import Library"
   ]
  },
  {
   "cell_type": "code",
   "execution_count": 30,
   "metadata": {
    "collapsed": true,
    "deletable": true,
    "editable": true
   },
   "outputs": [],
   "source": [
    "#### Pandas\n",
    "import pandas as pd\n",
    "from pandas import Series\n",
    "\n",
    "#### numpy, matplotlib, seaborn\n",
    "import numpy as np\n",
    "import matplotlib.pyplot as plt\n",
    "import seaborn as sns\n",
    "sns.set_style('whitegrid')\n",
    "\n",
    "#### Machine learning\n",
    "from sklearn.linear_model import LinearRegression\n",
    "from sklearn import ensemble\n",
    "from xgboost import XGBRegressor\n",
    "import xgboost\n",
    "import warnings\n",
    "from sklearn.model_selection import train_test_split"
   ]
  },
  {
   "cell_type": "markdown",
   "metadata": {
    "deletable": true,
    "editable": true
   },
   "source": [
    "# Import Data"
   ]
  },
  {
   "cell_type": "code",
   "execution_count": 2,
   "metadata": {
    "collapsed": false,
    "deletable": true,
    "editable": true
   },
   "outputs": [
    {
     "name": "stderr",
     "output_type": "stream",
     "text": [
      "C:\\Program Files\\Anaconda3\\lib\\site-packages\\IPython\\core\\interactiveshell.py:2698: DtypeWarning: Columns (7) have mixed types. Specify dtype option on import or set low_memory=False.\n",
      "  interactivity=interactivity, compiler=compiler, result=result)\n"
     ]
    }
   ],
   "source": [
    "train_set = pd.read_csv('E:/BDAP/Datasets/Rossmann/train.csv')\n",
    "test_set = pd.read_csv('E:/BDAP/Datasets/Rossmann/test.csv')\n",
    "store = pd.read_csv('E:/BDAP/Datasets/Rossmann/store.csv')"
   ]
  },
  {
   "cell_type": "markdown",
   "metadata": {
    "deletable": true,
    "editable": true
   },
   "source": [
    "# Finding and handling the missing data in Store data set"
   ]
  },
  {
   "cell_type": "code",
   "execution_count": 3,
   "metadata": {
    "collapsed": false,
    "deletable": true,
    "editable": true
   },
   "outputs": [
    {
     "name": "stdout",
     "output_type": "stream",
     "text": [
      "            Store  CompetitionDistance  CompetitionOpenSinceMonth  \\\n",
      "count  1115.00000          1112.000000                 761.000000   \n",
      "mean    558.00000          5404.901079                   7.224704   \n",
      "std     322.01708          7663.174720                   3.212348   \n",
      "min       1.00000            20.000000                   1.000000   \n",
      "25%     279.50000           717.500000                   4.000000   \n",
      "50%     558.00000          2325.000000                   8.000000   \n",
      "75%     836.50000          6882.500000                  10.000000   \n",
      "max    1115.00000         75860.000000                  12.000000   \n",
      "\n",
      "       CompetitionOpenSinceYear       Promo2  Promo2SinceWeek  Promo2SinceYear  \n",
      "count                761.000000  1115.000000       571.000000       571.000000  \n",
      "mean                2008.668857     0.512108        23.595447      2011.763573  \n",
      "std                    6.195983     0.500078        14.141984         1.674935  \n",
      "min                 1900.000000     0.000000         1.000000      2009.000000  \n",
      "25%                 2006.000000     0.000000        13.000000      2011.000000  \n",
      "50%                 2010.000000     1.000000        22.000000      2012.000000  \n",
      "75%                 2013.000000     1.000000        37.000000      2013.000000  \n",
      "max                 2015.000000     1.000000        50.000000      2015.000000  \n",
      "   Store StoreType Assortment  CompetitionDistance  CompetitionOpenSinceMonth  \\\n",
      "0      1         c          a               1270.0                        9.0   \n",
      "1      2         a          a                570.0                       11.0   \n",
      "2      3         a          a              14130.0                       12.0   \n",
      "3      4         c          c                620.0                        9.0   \n",
      "4      5         a          a              29910.0                        4.0   \n",
      "\n",
      "   CompetitionOpenSinceYear  Promo2  Promo2SinceWeek  Promo2SinceYear  \\\n",
      "0                    2008.0       0              NaN              NaN   \n",
      "1                    2007.0       1             13.0           2010.0   \n",
      "2                    2006.0       1             14.0           2011.0   \n",
      "3                    2009.0       0              NaN              NaN   \n",
      "4                    2015.0       0              NaN              NaN   \n",
      "\n",
      "     PromoInterval  \n",
      "0              NaN  \n",
      "1  Jan,Apr,Jul,Oct  \n",
      "2  Jan,Apr,Jul,Oct  \n",
      "3              NaN  \n",
      "4              NaN  \n"
     ]
    }
   ],
   "source": [
    "print(store.describe())\n",
    "print(store.head())"
   ]
  },
  {
   "cell_type": "markdown",
   "metadata": {
    "deletable": true,
    "editable": true
   },
   "source": [
    "# Checking for the missing Value and Handling Missing Value"
   ]
  },
  {
   "cell_type": "code",
   "execution_count": 4,
   "metadata": {
    "collapsed": true,
    "deletable": true,
    "editable": true
   },
   "outputs": [],
   "source": [
    "store['PromoInterval'] = store['PromoInterval'].fillna(0)   \n",
    "store['Promo2SinceWeek'] = store['Promo2SinceWeek'].fillna(0)\n",
    "store['Promo2SinceYear'] = store['Promo2SinceYear'].fillna(0)\n",
    "\n",
    "#### Fill the empty values for CompetitionOpenSinceMonth and CompetitionOpenSinceYear with mode.\n",
    "#### And CompetitionDistance with median\n",
    "store['CompetitionOpenSinceMonth'] = store['CompetitionOpenSinceMonth'].fillna(9)\n",
    "store['CompetitionOpenSinceYear'] = store['CompetitionOpenSinceYear'].fillna(2013)\n",
    "store['CompetitionDistance'] = store['CompetitionDistance'].fillna(2325)"
   ]
  },
  {
   "cell_type": "code",
   "execution_count": 5,
   "metadata": {
    "collapsed": false,
    "deletable": true,
    "editable": true
   },
   "outputs": [
    {
     "data": {
      "text/plain": [
       "Store                          int64\n",
       "StoreType                      int64\n",
       "Assortment                     int64\n",
       "CompetitionDistance          float64\n",
       "CompetitionOpenSinceMonth    float64\n",
       "CompetitionOpenSinceYear     float64\n",
       "Promo2                         int64\n",
       "Promo2SinceWeek              float64\n",
       "Promo2SinceYear              float64\n",
       "PromoInterval                  int64\n",
       "dtype: object"
      ]
     },
     "execution_count": 5,
     "metadata": {},
     "output_type": "execute_result"
    }
   ],
   "source": [
    "#### Replacing Categorical data to Numeric data\n",
    "store['PromoInterval'] = store['PromoInterval'].replace('Feb,May,Aug,Nov', 1)    \n",
    "store['PromoInterval'] = store['PromoInterval'].replace('Jan,Apr,Jul,Oct', 2)    \n",
    "store['PromoInterval'] = store['PromoInterval'].replace('Mar,Jun,Sept,Dec', 3) \n",
    "pd.Categorical(store['StoreType']).describe()\n",
    "store['StoreType'] = store['StoreType'].replace(('a','b','c','d'),(1,2,3,4))\n",
    "pd.Categorical(store['Assortment']).describe()\n",
    "store['Assortment'] = store['Assortment'].replace(('a','b','c'),(1,2,3))\n",
    "store.dtypes"
   ]
  },
  {
   "cell_type": "code",
   "execution_count": 6,
   "metadata": {
    "collapsed": false,
    "deletable": true,
    "editable": true
   },
   "outputs": [
    {
     "data": {
      "text/plain": [
       "Store                        0\n",
       "StoreType                    0\n",
       "Assortment                   0\n",
       "CompetitionDistance          0\n",
       "CompetitionOpenSinceMonth    0\n",
       "CompetitionOpenSinceYear     0\n",
       "Promo2                       0\n",
       "Promo2SinceWeek              0\n",
       "Promo2SinceYear              0\n",
       "PromoInterval                0\n",
       "dtype: int64"
      ]
     },
     "execution_count": 6,
     "metadata": {},
     "output_type": "execute_result"
    }
   ],
   "source": [
    "store['CompetitionDistance'] = store['CompetitionDistance'].astype(int)\n",
    "store['CompetitionOpenSinceMonth'] = store['CompetitionOpenSinceMonth'].astype(object)\n",
    "store['CompetitionOpenSinceYear'] = store['CompetitionOpenSinceYear'].astype(object)\n",
    "store['Promo2SinceWeek'] = store['Promo2SinceWeek'].astype(object)\n",
    "store['Promo2SinceYear'] = store['Promo2SinceYear'].astype(object)\n",
    "\n",
    "store.isnull().sum()"
   ]
  },
  {
   "cell_type": "markdown",
   "metadata": {
    "deletable": true,
    "editable": true
   },
   "source": [
    "# Replacing Categorical data to Numeric data in Train data set"
   ]
  },
  {
   "cell_type": "code",
   "execution_count": 7,
   "metadata": {
    "collapsed": false,
    "deletable": true,
    "editable": true
   },
   "outputs": [
    {
     "data": {
      "text/plain": [
       "Store             int64\n",
       "DayOfWeek         int64\n",
       "Date             object\n",
       "Sales             int64\n",
       "Customers         int64\n",
       "Open              int64\n",
       "Promo             int64\n",
       "StateHoliday      int64\n",
       "SchoolHoliday     int64\n",
       "dtype: object"
      ]
     },
     "execution_count": 7,
     "metadata": {},
     "output_type": "execute_result"
    }
   ],
   "source": [
    "train_set.shape\n",
    "pd.Categorical(train_set['StateHoliday']).describe()\n",
    "train_set['StateHoliday'] = train_set['StateHoliday'].replace(('a','b','c'),(1,2,3))\n",
    "train_set['StateHoliday'] = train_set['StateHoliday'].replace('0',0)\n",
    "train_set.isnull().sum()\n",
    "train_set.dtypes\n"
   ]
  },
  {
   "cell_type": "markdown",
   "metadata": {
    "deletable": true,
    "editable": true
   },
   "source": [
    "# Removing the store which are closed and whose sales are zero\n",
    "\n",
    "# As there Perdicting will result to zero."
   ]
  },
  {
   "cell_type": "code",
   "execution_count": 8,
   "metadata": {
    "collapsed": false,
    "deletable": true,
    "editable": true
   },
   "outputs": [
    {
     "name": "stdout",
     "output_type": "stream",
     "text": [
      "Index(['Store', 'DayOfWeek', 'Date', 'Sales', 'Customers', 'Open', 'Promo',\n",
      "       'StateHoliday', 'SchoolHoliday'],\n",
      "      dtype='object')\n"
     ]
    },
    {
     "name": "stderr",
     "output_type": "stream",
     "text": [
      "C:\\Program Files\\Anaconda3\\lib\\site-packages\\ipykernel_launcher.py:1: DeprecationWarning: \n",
      ".ix is deprecated. Please use\n",
      ".loc for label based indexing or\n",
      ".iloc for positional indexing\n",
      "\n",
      "See the documentation here:\n",
      "http://pandas.pydata.org/pandas-docs/stable/indexing.html#ix-indexer-is-deprecated\n",
      "  \"\"\"Entry point for launching an IPython kernel.\n"
     ]
    },
    {
     "data": {
      "text/html": [
       "<div>\n",
       "<style>\n",
       "    .dataframe thead tr:only-child th {\n",
       "        text-align: right;\n",
       "    }\n",
       "\n",
       "    .dataframe thead th {\n",
       "        text-align: left;\n",
       "    }\n",
       "\n",
       "    .dataframe tbody tr th {\n",
       "        vertical-align: top;\n",
       "    }\n",
       "</style>\n",
       "<table border=\"1\" class=\"dataframe\">\n",
       "  <thead>\n",
       "    <tr style=\"text-align: right;\">\n",
       "      <th></th>\n",
       "      <th>Store</th>\n",
       "      <th>DayOfWeek</th>\n",
       "      <th>Date</th>\n",
       "      <th>Sales</th>\n",
       "      <th>Customers</th>\n",
       "      <th>Open</th>\n",
       "      <th>Promo</th>\n",
       "      <th>StateHoliday</th>\n",
       "      <th>SchoolHoliday</th>\n",
       "    </tr>\n",
       "  </thead>\n",
       "  <tbody>\n",
       "    <tr>\n",
       "      <th>0</th>\n",
       "      <td>1</td>\n",
       "      <td>5</td>\n",
       "      <td>2015-07-31</td>\n",
       "      <td>5263</td>\n",
       "      <td>555</td>\n",
       "      <td>1</td>\n",
       "      <td>1</td>\n",
       "      <td>0</td>\n",
       "      <td>1</td>\n",
       "    </tr>\n",
       "    <tr>\n",
       "      <th>1</th>\n",
       "      <td>2</td>\n",
       "      <td>5</td>\n",
       "      <td>2015-07-31</td>\n",
       "      <td>6064</td>\n",
       "      <td>625</td>\n",
       "      <td>1</td>\n",
       "      <td>1</td>\n",
       "      <td>0</td>\n",
       "      <td>1</td>\n",
       "    </tr>\n",
       "    <tr>\n",
       "      <th>2</th>\n",
       "      <td>3</td>\n",
       "      <td>5</td>\n",
       "      <td>2015-07-31</td>\n",
       "      <td>8314</td>\n",
       "      <td>821</td>\n",
       "      <td>1</td>\n",
       "      <td>1</td>\n",
       "      <td>0</td>\n",
       "      <td>1</td>\n",
       "    </tr>\n",
       "    <tr>\n",
       "      <th>3</th>\n",
       "      <td>4</td>\n",
       "      <td>5</td>\n",
       "      <td>2015-07-31</td>\n",
       "      <td>13995</td>\n",
       "      <td>1498</td>\n",
       "      <td>1</td>\n",
       "      <td>1</td>\n",
       "      <td>0</td>\n",
       "      <td>1</td>\n",
       "    </tr>\n",
       "    <tr>\n",
       "      <th>4</th>\n",
       "      <td>5</td>\n",
       "      <td>5</td>\n",
       "      <td>2015-07-31</td>\n",
       "      <td>4822</td>\n",
       "      <td>559</td>\n",
       "      <td>1</td>\n",
       "      <td>1</td>\n",
       "      <td>0</td>\n",
       "      <td>1</td>\n",
       "    </tr>\n",
       "  </tbody>\n",
       "</table>\n",
       "</div>"
      ],
      "text/plain": [
       "   Store  DayOfWeek        Date  Sales  Customers  Open  Promo  StateHoliday  \\\n",
       "0      1          5  2015-07-31   5263        555     1      1             0   \n",
       "1      2          5  2015-07-31   6064        625     1      1             0   \n",
       "2      3          5  2015-07-31   8314        821     1      1             0   \n",
       "3      4          5  2015-07-31  13995       1498     1      1             0   \n",
       "4      5          5  2015-07-31   4822        559     1      1             0   \n",
       "\n",
       "   SchoolHoliday  \n",
       "0              1  \n",
       "1              1  \n",
       "2              1  \n",
       "3              1  \n",
       "4              1  "
      ]
     },
     "execution_count": 8,
     "metadata": {},
     "output_type": "execute_result"
    }
   ],
   "source": [
    "train_set= train_set.ix[~((train_set.Open==0)&(train_set.Sales==0))]\n",
    "\n",
    "print(train_set.columns)\n",
    "train_set.head()"
   ]
  },
  {
   "cell_type": "markdown",
   "metadata": {
    "deletable": true,
    "editable": true
   },
   "source": [
    "# Handling mssing Value in test dataset and replacing Categorical Value to numeric."
   ]
  },
  {
   "cell_type": "code",
   "execution_count": 9,
   "metadata": {
    "collapsed": true,
    "deletable": true,
    "editable": true
   },
   "outputs": [],
   "source": [
    "test_set.shape\n",
    "test_set.head()\n",
    "test_set.isnull().sum()\n",
    "test_set['Open'] = test_set['Open'].fillna(1)\n",
    "pd.Categorical(test_set['StateHoliday']).describe()\n",
    "test_set['StateHoliday'] = test_set['StateHoliday'].replace(('0','a'),(0,1))\n"
   ]
  },
  {
   "cell_type": "code",
   "execution_count": 10,
   "metadata": {
    "collapsed": false,
    "deletable": true,
    "editable": true
   },
   "outputs": [
    {
     "name": "stdout",
     "output_type": "stream",
     "text": [
      "   Store  StoreType  Assortment  CompetitionDistance  \\\n",
      "0      1          3           1                 1270   \n",
      "1      2          1           1                  570   \n",
      "2      3          1           1                14130   \n",
      "3      4          3           3                  620   \n",
      "4      5          1           1                29910   \n",
      "\n",
      "  CompetitionOpenSinceMonth CompetitionOpenSinceYear  Promo2 Promo2SinceWeek  \\\n",
      "0                         9                     2008       0               0   \n",
      "1                        11                     2007       1              13   \n",
      "2                        12                     2006       1              14   \n",
      "3                         9                     2009       0               0   \n",
      "4                         4                     2015       0               0   \n",
      "\n",
      "  Promo2SinceYear  PromoInterval  \n",
      "0               0              0  \n",
      "1            2010              2  \n",
      "2            2011              2  \n",
      "3               0              0  \n",
      "4               0              0  \n",
      "   Store  DayOfWeek        Date  Sales  Customers  Open  Promo  StateHoliday  \\\n",
      "0      1          5  2015-07-31   5263        555     1      1             0   \n",
      "1      2          5  2015-07-31   6064        625     1      1             0   \n",
      "2      3          5  2015-07-31   8314        821     1      1             0   \n",
      "3      4          5  2015-07-31  13995       1498     1      1             0   \n",
      "4      5          5  2015-07-31   4822        559     1      1             0   \n",
      "\n",
      "   SchoolHoliday  \n",
      "0              1  \n",
      "1              1  \n",
      "2              1  \n",
      "3              1  \n",
      "4              1  \n",
      "   Id  Store  DayOfWeek        Date  Open  Promo  StateHoliday  SchoolHoliday\n",
      "0   1      1          4  2015-09-17   1.0      1             0              0\n",
      "1   2      3          4  2015-09-17   1.0      1             0              0\n",
      "2   3      7          4  2015-09-17   1.0      1             0              0\n",
      "3   4      8          4  2015-09-17   1.0      1             0              0\n",
      "4   5      9          4  2015-09-17   1.0      1             0              0\n"
     ]
    }
   ],
   "source": [
    "print(store.head())\n",
    "print(train_set.head())\n",
    "print(test_set.head())"
   ]
  },
  {
   "cell_type": "markdown",
   "metadata": {
    "deletable": true,
    "editable": true
   },
   "source": [
    "Write the data into csv file"
   ]
  },
  {
   "cell_type": "code",
   "execution_count": 11,
   "metadata": {
    "collapsed": true,
    "deletable": true,
    "editable": true
   },
   "outputs": [],
   "source": [
    "store.to_csv('E:/BDAP/Datasets/Rossmann/store_df.csv')\n",
    "train_set.to_csv('E:/BDAP/Datasets/Rossmann/Rossmann_train.csv')\n",
    "test_set.to_csv('E:/BDAP/Datasets/Rossmann/Rossmann_test.csv')\n",
    "\n",
    "rossmann_df = pd.read_csv('E:/BDAP/Datasets/Rossmann/Rossmann_train.csv',index_col=0)\n",
    "test_df = pd.read_csv('E:/BDAP/Datasets/Rossmann/Rossmann_test.csv',index_col=0)\n",
    "store_df = pd.read_csv('E:/BDAP/Datasets/Rossmann/store_df.csv',index_col=0)"
   ]
  },
  {
   "cell_type": "markdown",
   "metadata": {
    "deletable": true,
    "editable": true
   },
   "source": [
    "# Visualization"
   ]
  },
  {
   "cell_type": "code",
   "execution_count": 12,
   "metadata": {
    "collapsed": false,
    "deletable": true,
    "editable": true
   },
   "outputs": [
    {
     "name": "stdout",
     "output_type": "stream",
     "text": [
      "<class 'pandas.core.frame.DataFrame'>\n",
      "Int64Index: 844392 entries, 0 to 1017190\n",
      "Data columns (total 9 columns):\n",
      "Store            844392 non-null int64\n",
      "DayOfWeek        844392 non-null int64\n",
      "Date             844392 non-null object\n",
      "Sales            844392 non-null int64\n",
      "Customers        844392 non-null int64\n",
      "Open             844392 non-null int64\n",
      "Promo            844392 non-null int64\n",
      "StateHoliday     844392 non-null int64\n",
      "SchoolHoliday    844392 non-null int64\n",
      "dtypes: int64(8), object(1)\n",
      "memory usage: 64.4+ MB\n",
      "----------------------------\n",
      "<class 'pandas.core.frame.DataFrame'>\n",
      "Int64Index: 1115 entries, 0 to 1114\n",
      "Data columns (total 10 columns):\n",
      "Store                        1115 non-null int64\n",
      "StoreType                    1115 non-null int64\n",
      "Assortment                   1115 non-null int64\n",
      "CompetitionDistance          1115 non-null int64\n",
      "CompetitionOpenSinceMonth    1115 non-null float64\n",
      "CompetitionOpenSinceYear     1115 non-null float64\n",
      "Promo2                       1115 non-null int64\n",
      "Promo2SinceWeek              1115 non-null float64\n",
      "Promo2SinceYear              1115 non-null float64\n",
      "PromoInterval                1115 non-null int64\n",
      "dtypes: float64(4), int64(6)\n",
      "memory usage: 95.8 KB\n",
      "----------------------------\n",
      "<class 'pandas.core.frame.DataFrame'>\n",
      "Int64Index: 41088 entries, 0 to 41087\n",
      "Data columns (total 8 columns):\n",
      "Id               41088 non-null int64\n",
      "Store            41088 non-null int64\n",
      "DayOfWeek        41088 non-null int64\n",
      "Date             41088 non-null object\n",
      "Open             41088 non-null float64\n",
      "Promo            41088 non-null int64\n",
      "StateHoliday     41088 non-null int64\n",
      "SchoolHoliday    41088 non-null int64\n",
      "dtypes: float64(1), int64(6), object(1)\n",
      "memory usage: 2.8+ MB\n"
     ]
    }
   ],
   "source": [
    "rossmann_df.info()\n",
    "print(\"----------------------------\")\n",
    "store_df.info()\n",
    "print(\"----------------------------\")\n",
    "test_df.info()"
   ]
  },
  {
   "cell_type": "markdown",
   "metadata": {
    "deletable": true,
    "editable": true
   },
   "source": [
    "# Date\n",
    "# Create Year and Month columns"
   ]
  },
  {
   "cell_type": "code",
   "execution_count": 13,
   "metadata": {
    "collapsed": true,
    "deletable": true,
    "editable": true
   },
   "outputs": [],
   "source": [
    "rossmann_df['Year']  = rossmann_df['Date'].apply(lambda x: int(str(x)[:4]))\n",
    "rossmann_df['Month'] = rossmann_df['Date'].apply(lambda x: int(str(x)[5:7]))\n",
    "\n",
    "test_df['Year']  = test_df['Date'].apply(lambda x: int(str(x)[:4]))\n",
    "test_df['Month'] = test_df['Date'].apply(lambda x: int(str(x)[5:7]))"
   ]
  },
  {
   "cell_type": "markdown",
   "metadata": {
    "deletable": true,
    "editable": true
   },
   "source": [
    "# Assign Date column to Date(Year-Month) instead of (Year-Month-Day).\n",
    "\n",
    "# This column will be useful in analysis and visualization."
   ]
  },
  {
   "cell_type": "code",
   "execution_count": 14,
   "metadata": {
    "collapsed": true,
    "deletable": true,
    "editable": true
   },
   "outputs": [],
   "source": [
    "rossmann_df['Date'] = rossmann_df['Date'].apply(lambda x: (str(x)[:7]))\n",
    "test_df['Date']     = test_df['Date'].apply(lambda x: (str(x)[:7]))\n",
    "\n",
    "#### group by date and get average sales, and precent change\n",
    "average_sales    = rossmann_df.groupby('Date')[\"Sales\"].mean()\n",
    "pct_change_sales = rossmann_df.groupby('Date')[\"Sales\"].sum().pct_change()"
   ]
  },
  {
   "cell_type": "markdown",
   "metadata": {
    "deletable": true,
    "editable": true
   },
   "source": [
    "# Plot the average sales and Percent change.\n",
    "\n",
    "# Plot average sales over time(year-month).\n",
    "\n",
    "# Plot precent change for sales over time(year-month)."
   ]
  },
  {
   "cell_type": "code",
   "execution_count": 15,
   "metadata": {
    "collapsed": false,
    "deletable": true,
    "editable": true,
    "scrolled": true
   },
   "outputs": [
    {
     "data": {
      "image/png": "[encoded data removed]",
      "text/plain": [
       "<matplotlib.figure.Figure at 0x2560f053780>"
      ]
     },
     "metadata": {},
     "output_type": "display_data"
    }
   ],
   "source": [
    "fig, (axis1,axis2) = plt.subplots(2,1,sharex=True,figsize=(15,8))\n",
    "ax1 = average_sales.plot(legend=True,ax=axis1,marker='o',title=\"Average Sales\")\n",
    "ax1.set_xticks(range(len(average_sales)))\n",
    "ax1.set_xticklabels(average_sales.index.tolist(), rotation=90)\n",
    "ax2 = pct_change_sales.plot(legend=True,ax=axis2,marker='o',rot=90,colormap=\"summer\",title=\"Sales Percent Change\")\n",
    "plt.show()"
   ]
  },
  {
   "cell_type": "markdown",
   "metadata": {
    "deletable": true,
    "editable": true
   },
   "source": [
    "# Plot average sales & customers for every year"
   ]
  },
  {
   "cell_type": "code",
   "execution_count": 16,
   "metadata": {
    "collapsed": false,
    "deletable": true,
    "editable": true
   },
   "outputs": [
    {
     "data": {
      "image/png": "[encoded data removed]",
      "text/plain": [
       "<matplotlib.figure.Figure at 0x25605529c50>"
      ]
     },
     "metadata": {},
     "output_type": "display_data"
    }
   ],
   "source": [
    "fig, (axis1,axis2) = plt.subplots(1,2,figsize=(15,4))\n",
    "sns.barplot(x='Year', y='Sales', data=rossmann_df, ax=axis1)\n",
    "sns.barplot(x='Year', y='Customers', data=rossmann_df, ax=axis2)\n",
    "plt.show()"
   ]
  },
  {
   "cell_type": "markdown",
   "metadata": {
    "deletable": true,
    "editable": true
   },
   "source": [
    "# Customers. \n",
    "\n",
    "# Plot max, min values, & 2nd, 3rd quartile.\n",
    "\n",
    "# Group by date and get average customers, and precent change.\n",
    "\n",
    "# Plot average customers over the time it should be correlated with the average sales over time"
   ]
  },
  {
   "cell_type": "code",
   "execution_count": 17,
   "metadata": {
    "collapsed": false,
    "deletable": true,
    "editable": true
   },
   "outputs": [
    {
     "data": {
      "image/png": "[encoded data removed]",
      "text/plain": [
       "<matplotlib.figure.Figure at 0x2560533b2e8>"
      ]
     },
     "metadata": {},
     "output_type": "display_data"
    }
   ],
   "source": [
    "fig, (axis1,axis2) = plt.subplots(2,1,figsize=(15,8))\n",
    "sns.boxplot([rossmann_df[\"Customers\"]], whis=np.inf, ax=axis1)\n",
    "\n",
    "average_customers      = rossmann_df.groupby('Date')[\"Customers\"].mean()\n",
    "pct_change_customers = rossmann_df.groupby('Date')[\"Customers\"].sum().pct_change()\n",
    "\n",
    "ax = average_customers.plot(legend=True,marker='o', ax=axis2)\n",
    "ax.set_xticks(range(len(average_customers)))\n",
    "xlabels = ax.set_xticklabels(average_customers.index.tolist(), rotation=90)\n",
    "plt.show()"
   ]
  },
  {
   "cell_type": "markdown",
   "metadata": {
    "deletable": true,
    "editable": true
   },
   "source": [
    "# DayOfWeek\n",
    "\n",
    "# In both cases where the store is closed and opened"
   ]
  },
  {
   "cell_type": "code",
   "execution_count": 18,
   "metadata": {
    "collapsed": false,
    "deletable": true,
    "editable": true
   },
   "outputs": [
    {
     "data": {
      "image/png": "[encoded data removed]",
      "text/plain": [
       "<matplotlib.figure.Figure at 0x256057acef0>"
      ]
     },
     "metadata": {},
     "output_type": "display_data"
    }
   ],
   "source": [
    "fig, (axis1,axis2) = plt.subplots(1,2,figsize=(15,4))\n",
    "sns.barplot(x='DayOfWeek', y='Sales', data=rossmann_df, order=[1,2,3,4,5,6,7], ax=axis1)\n",
    "sns.barplot(x='DayOfWeek', y='Customers', data=rossmann_df, order=[1,2,3,4,5,6,7], ax=axis2)\n",
    "plt.show()"
   ]
  },
  {
   "cell_type": "markdown",
   "metadata": {
    "deletable": true,
    "editable": true
   },
   "source": [
    "# Sales\n",
    "\n",
    "# Plot max, min values, & 2nd, 3rd quartile.\n",
    "\n",
    "# Plot sales values."
   ]
  },
  {
   "cell_type": "code",
   "execution_count": 19,
   "metadata": {
    "collapsed": false,
    "deletable": true,
    "editable": true
   },
   "outputs": [
    {
     "data": {
      "image/png": "[encoded data removed]",
      "text/plain": [
       "<matplotlib.figure.Figure at 0x25605933dd8>"
      ]
     },
     "metadata": {},
     "output_type": "display_data"
    }
   ],
   "source": [
    "fig, (axis1,axis2) = plt.subplots(2,1,figsize=(15,8))\n",
    "sns.boxplot([rossmann_df[\"Customers\"]], whis=np.inf, ax=axis1)\n",
    "rossmann_df[\"Sales\"].plot(kind='hist',bins=70,xlim=(0,15000),ax=axis2)\n",
    "plt.show()"
   ]
  },
  {
   "cell_type": "markdown",
   "metadata": {
    "deletable": true,
    "editable": true
   },
   "source": [
    "# Merge store_df with average store sales & customers"
   ]
  },
  {
   "cell_type": "code",
   "execution_count": 20,
   "metadata": {
    "collapsed": true,
    "deletable": true,
    "editable": true
   },
   "outputs": [],
   "source": [
    "average_sales_customers = rossmann_df.groupby('Store')[[\"Sales\", \"Customers\"]].mean()\n",
    "sales_customers_df = pd.DataFrame({'Store':average_sales_customers.index,\n",
    "                      'Sales':average_sales_customers[\"Sales\"], 'Customers': average_sales_customers[\"Customers\"]}, \n",
    "                      columns=['Store', 'Sales', 'Customers'])\n",
    "store_df = pd.merge(sales_customers_df, store_df, on='Store')"
   ]
  },
  {
   "cell_type": "markdown",
   "metadata": {
    "deletable": true,
    "editable": true
   },
   "source": [
    "# StoreType \n",
    "\n",
    "# Plot StoreType, & StoreType Vs average sales and customers"
   ]
  },
  {
   "cell_type": "code",
   "execution_count": 21,
   "metadata": {
    "collapsed": false,
    "deletable": true,
    "editable": true
   },
   "outputs": [
    {
     "data": {
      "image/png": "[encoded data removed]",
      "text/plain": [
       "<matplotlib.figure.Figure at 0x2560596deb8>"
      ]
     },
     "metadata": {},
     "output_type": "display_data"
    },
    {
     "data": {
      "image/png": "[encoded data removed]",
      "text/plain": [
       "<matplotlib.figure.Figure at 0x25618b719e8>"
      ]
     },
     "metadata": {},
     "output_type": "display_data"
    }
   ],
   "source": [
    "sns.countplot(x='StoreType', data=store_df, order=[1,2,3, 4])\n",
    "fig, (axis1,axis2) = plt.subplots(1,2,figsize=(15,4))\n",
    "sns.barplot(x='StoreType', y='Sales', data=store_df, order=[1,2,3, 4],ax=axis1)\n",
    "sns.barplot(x='StoreType', y='Customers', data=store_df, order=[1,2,3, 4], ax=axis2)\n",
    "plt.show()"
   ]
  },
  {
   "cell_type": "markdown",
   "metadata": {
    "deletable": true,
    "editable": true
   },
   "source": [
    "# Model Building"
   ]
  },
  {
   "cell_type": "code",
   "execution_count": 22,
   "metadata": {
    "collapsed": true,
    "deletable": true,
    "editable": true
   },
   "outputs": [],
   "source": [
    "train_set = pd.read_csv('E:/BDAP/Datasets/Rossmann/Rossmann_train.csv',index_col=0)\n",
    "test_set = pd.read_csv('E:/BDAP/Datasets/Rossmann/Rossmann_test.csv',index_col=0)\n",
    "store = pd.read_csv('E:/BDAP/Datasets/Rossmann/store_df.csv',index_col=0)"
   ]
  },
  {
   "cell_type": "markdown",
   "metadata": {
    "deletable": true,
    "editable": true
   },
   "source": [
    "# Create dummy varibales for DayOfWeek for both Train and test set"
   ]
  },
  {
   "cell_type": "code",
   "execution_count": 23,
   "metadata": {
    "collapsed": true,
    "deletable": true,
    "editable": true
   },
   "outputs": [],
   "source": [
    "day_dummies  = pd.get_dummies(train_set['DayOfWeek'], prefix='Day')\n",
    "day_dummies_test  = pd.get_dummies(test_set['DayOfWeek'],prefix='Day')\n",
    "\n",
    "\n",
    "train_set = train_set.join(day_dummies)\n",
    "test_set  = test_set.join(day_dummies_test)"
   ]
  },
  {
   "cell_type": "markdown",
   "metadata": {
    "deletable": true,
    "editable": true
   },
   "source": [
    "# Save ids of closed stores, because we will assign their sales value to 0 later(see below)"
   ]
  },
  {
   "cell_type": "code",
   "execution_count": 24,
   "metadata": {
    "collapsed": true,
    "deletable": true,
    "editable": true
   },
   "outputs": [],
   "source": [
    "closed_store_ids = test_set[\"Id\"][test_set[\"Open\"] == 0].values"
   ]
  },
  {
   "cell_type": "markdown",
   "metadata": {
    "deletable": true,
    "editable": true
   },
   "source": [
    "# Removing Observation were store is closed and sales is zero"
   ]
  },
  {
   "cell_type": "code",
   "execution_count": 25,
   "metadata": {
    "collapsed": false,
    "deletable": true,
    "editable": true
   },
   "outputs": [
    {
     "name": "stderr",
     "output_type": "stream",
     "text": [
      "C:\\Program Files\\Anaconda3\\lib\\site-packages\\ipykernel_launcher.py:1: DeprecationWarning: \n",
      ".ix is deprecated. Please use\n",
      ".loc for label based indexing or\n",
      ".iloc for positional indexing\n",
      "\n",
      "See the documentation here:\n",
      "http://pandas.pydata.org/pandas-docs/stable/indexing.html#ix-indexer-is-deprecated\n",
      "  \"\"\"Entry point for launching an IPython kernel.\n",
      "C:\\Program Files\\Anaconda3\\lib\\site-packages\\ipykernel_launcher.py:2: DeprecationWarning: \n",
      ".ix is deprecated. Please use\n",
      ".loc for label based indexing or\n",
      ".iloc for positional indexing\n",
      "\n",
      "See the documentation here:\n",
      "http://pandas.pydata.org/pandas-docs/stable/indexing.html#ix-indexer-is-deprecated\n",
      "  \n"
     ]
    }
   ],
   "source": [
    "train_set= train_set.ix[~((train_set.Open==0)&(train_set.Sales==0))]                           \n",
    "test_set= test_set.ix[~((test_set.Open==0))]\n",
    "                           \n",
    "train_set.drop(['DayOfWeek','Open','Customers', 'Date','Day_7'], axis=1,inplace=True)\n",
    "test_set.drop(['DayOfWeek','Open', 'Date','Day_7'], axis=1,inplace=True)"
   ]
  },
  {
   "cell_type": "markdown",
   "metadata": {
    "deletable": true,
    "editable": true
   },
   "source": [
    "# Merge the store data and the Test Data"
   ]
  },
  {
   "cell_type": "code",
   "execution_count": 26,
   "metadata": {
    "collapsed": true,
    "deletable": true,
    "editable": true
   },
   "outputs": [],
   "source": [
    "df_train = pd.merge(train_set,store, on = 'Store')\n",
    "\n",
    "df_test = pd.merge(test_set,store, on = 'Store')"
   ]
  },
  {
   "cell_type": "code",
   "execution_count": 27,
   "metadata": {
    "collapsed": false,
    "deletable": true,
    "editable": true
   },
   "outputs": [
    {
     "name": "stdout",
     "output_type": "stream",
     "text": [
      "Store                        0\n",
      "Sales                        0\n",
      "Promo                        0\n",
      "StateHoliday                 0\n",
      "SchoolHoliday                0\n",
      "Day_1                        0\n",
      "Day_2                        0\n",
      "Day_3                        0\n",
      "Day_4                        0\n",
      "Day_5                        0\n",
      "Day_6                        0\n",
      "StoreType                    0\n",
      "Assortment                   0\n",
      "CompetitionDistance          0\n",
      "CompetitionOpenSinceMonth    0\n",
      "CompetitionOpenSinceYear     0\n",
      "Promo2                       0\n",
      "Promo2SinceWeek              0\n",
      "Promo2SinceYear              0\n",
      "PromoInterval                0\n",
      "dtype: int64\n",
      "Id                           0\n",
      "Store                        0\n",
      "Promo                        0\n",
      "StateHoliday                 0\n",
      "SchoolHoliday                0\n",
      "Day_1                        0\n",
      "Day_2                        0\n",
      "Day_3                        0\n",
      "Day_4                        0\n",
      "Day_5                        0\n",
      "Day_6                        0\n",
      "StoreType                    0\n",
      "Assortment                   0\n",
      "CompetitionDistance          0\n",
      "CompetitionOpenSinceMonth    0\n",
      "CompetitionOpenSinceYear     0\n",
      "Promo2                       0\n",
      "Promo2SinceWeek              0\n",
      "Promo2SinceYear              0\n",
      "PromoInterval                0\n",
      "dtype: int64\n"
     ]
    }
   ],
   "source": [
    "print(df_train.isnull().sum())\n",
    "print(df_test.isnull().sum())"
   ]
  },
  {
   "cell_type": "markdown",
   "metadata": {
    "deletable": true,
    "editable": true
   },
   "source": [
    "# Feature Selection"
   ]
  },
  {
   "cell_type": "code",
   "execution_count": 31,
   "metadata": {
    "collapsed": false,
    "deletable": true,
    "editable": true
   },
   "outputs": [
    {
     "name": "stdout",
     "output_type": "stream",
     "text": [
      "[0]\ttrain-rmse:6945.52\n",
      "[10]\ttrain-rmse:3442\n",
      "[20]\ttrain-rmse:2638.51\n",
      "[30]\ttrain-rmse:2468.74\n",
      "[40]\ttrain-rmse:2361.06\n",
      "[50]\ttrain-rmse:2298.94\n",
      "[60]\ttrain-rmse:2226.9\n",
      "[70]\ttrain-rmse:2162.55\n"
     ]
    },
    {
     "data": {
      "image/png": "[encoded data removed]",
      "text/plain": [
       "<matplotlib.figure.Figure at 0x256172b8e48>"
      ]
     },
     "metadata": {},
     "output_type": "display_data"
    }
   ],
   "source": [
    "X_train, X_val, y_train, y_val = train_test_split(df_train.drop([\"Sales\",\"Store\",'CompetitionOpenSinceMonth','Promo2','Promo2SinceYear','Promo2SinceWeek'],axis=1), df_train[[\"Sales\"]],\n",
    "                                                    test_size=0.9, random_state=42)\n",
    "d_train = xgboost.DMatrix(X_train, y_train)\n",
    "xgb_params = {\n",
    "    \"objective\"         : \"reg:linear\"\n",
    "    ,\"eta\"              : 0.1\n",
    "    ,\"max_depth\"        : 6\n",
    "    ,\"min_child_weight\" :10\n",
    "    ,\"gamma\"            :0.70\n",
    "    ,\"subsample\"        :0.76\n",
    "    ,\"colsample_bytree\" :0.95\n",
    "    ,\"alpha\"            :2e-05\n",
    "    ,\"lambda\"           :10\n",
    "}\n",
    "\n",
    "watchlist= [(d_train, \"train\")]\n",
    "bst = xgboost.train(params=xgb_params, dtrain=d_train, num_boost_round=80, evals=watchlist, verbose_eval=10)\n",
    "xgboost.plot_importance(bst)\n",
    "plt.show()"
   ]
  },
  {
   "cell_type": "code",
   "execution_count": 32,
   "metadata": {
    "collapsed": true,
    "deletable": true,
    "editable": true
   },
   "outputs": [],
   "source": [
    "rossmann_dic = dict(list(df_train.groupby('Store')))\n",
    "test_dic     = dict(list(df_test.groupby('Store')))\n",
    "submission   = Series()\n",
    "scores       = []"
   ]
  },
  {
   "cell_type": "code",
   "execution_count": null,
   "metadata": {
    "collapsed": true,
    "deletable": true,
    "editable": true
   },
   "outputs": [],
   "source": [
    "for i in test_dic:\n",
    "    \n",
    "    # current store\n",
    "    store = rossmann_dic[i]\n",
    "    \n",
    "    # define training and testing sets\n",
    "    X_train = store.drop([\"Sales\",\"Store\",'CompetitionOpenSinceMonth','Promo2','Promo2SinceYear','Promo2SinceWeek','StateHoliday','CompetitionOpenSinceYear'],axis=1)\n",
    "    Y_train = store[\"Sales\"]\n",
    "    X_test  = test_dic[i].copy()\n",
    "    \n",
    "    store_ids = X_test[\"Id\"]\n",
    "    X_test.drop([\"Id\",\"Store\",'CompetitionOpenSinceMonth','Promo2SinceYear','Promo2','Promo2SinceWeek','StateHoliday','CompetitionOpenSinceYear'], axis=1,inplace=True)\n",
    "    \n",
    "    # Linear Regression\n",
    "    #lreg = LinearRegression()\n",
    "    #lreg.fit(X_train, Y_train)\n",
    "    #Y_pred = lreg.predict(X_test)\n",
    "    #scores.append(lreg.score(X_train, Y_train))\n",
    "    #0.14879\n",
    "    \n",
    "    #clf = ensemble.GradientBoostingRegressor(n_estimators= 400, max_depth=5,min_samples_split=2,\n",
    "    #                                                          learning_rate=0.01, loss = 'huber')\n",
    "    #clf.fit(X_train,Y_train)\n",
    "    #Y_pred = clf.predict(X_test)\n",
    "    #scores.append(clf.score(X_train, Y_train))\n",
    "    #0.14755 - ls\n",
    "    #0.13805 - huber\n",
    "    \n",
    "    model = XGBRegressor(learning_rate=0.01,n_estimators=300,gamma=0.1,\n",
    "                          objective='reg:linear',\n",
    "                          base_score=0.5,max_depth=10)\n",
    "    model.fit(X_train,Y_train)\n",
    "    Y_pred = model.predict(X_test)\n",
    "    scores.append(model.score(X_train, Y_train))\n",
    "    #0.13588\n",
    "    \n",
    "    # append predicted values of current store to submission\n",
    "    submission = submission.append(Series(Y_pred, index=store_ids))\n",
    "\n",
    "# append rows(store,date) that were closed, and assign their sales value to 0\n",
    "submission = submission.append(Series(0, index=closed_store_ids))\n",
    "\n",
    "submission.to_csv('E:/BDAP/Datasets/Rossmann/submission.csv')"
   ]
  },
  {
   "cell_type": "code",
   "execution_count": null,
   "metadata": {
    "collapsed": true,
    "deletable": true,
    "editable": true
   },
   "outputs": [],
   "source": []
  }
 ],
 "metadata": {
  "kernelspec": {
   "display_name": "Python 2",
   "language": "python",
   "name": "python2"
  },
  "language_info": {
   "codemirror_mode": {
    "name": "ipython",
    "version": 2
   },
   "file_extension": ".py",
   "mimetype": "text/x-python",
   "name": "python",
   "nbconvert_exporter": "python",
   "pygments_lexer": "ipython2",
   "version": "2.7.13"
  }
 },
 "nbformat": 4,
 "nbformat_minor": 2
}
